{
 "cells": [
  {
   "cell_type": "markdown",
   "metadata": {},
   "source": [
    "# Лабораторная работа №6\n",
    "## Экстремум функции многих переменных\n",
    "### Выполнила Леонова Анна, группа 427 ИБТС, май 2017 года\n",
    "Требуется найти экстремум функции двух переменных\n",
    "$$ f(x_0,x_1) = x_0^2 + x_1^2 - 0.5x_0 - 1.6x_1 + 2 $$\n",
    "методом Ньютона.\n",
    "## Метод Ньютона\n",
    "Исследуемая функция раскладывается в ряд Тейлора около точки x^k, учитываются члены вплоть до второго порядка:\n",
    "$$ f(x) = f(x^k) + (\\nabla f(x^k), (x-x^k)) + 0.5(\\nabla ^2 f(x^k)(x-x^k),(x-x^k)) + o||x-x^k||^2 $$\n",
    "При положительно определённом гессиане глобальный минимум достигается в точке\n",
    "$$ x^{k+1} = x^k - [\\nabla ^2 f(x^k)]^{-1}\\nabla f(x^k) $$\n",
    "При этом справедливо неравенство\n",
    "$$ f(x^{k+1}) < f(x^k) $$\n",
    "Тогда получаем формулу итерационного процесса, позволяющую найти k+1-ю точку по значению функции, градиента и гессиана в k-ой. Для квадратичной функции (как в задании) метод сходится за один шаг."
   ]
  },
  {
   "cell_type": "code",
   "execution_count": 2,
   "metadata": {
    "collapsed": true
   },
   "outputs": [],
   "source": [
    "from math import *\n",
    "import matplotlib.pyplot as plt\n",
    "import numpy as np\n"
   ]
  },
  {
   "cell_type": "markdown",
   "metadata": {},
   "source": [
    "Сначала градиент и гессиан посчитаны аналитически"
   ]
  },
  {
   "cell_type": "code",
   "execution_count": 3,
   "metadata": {
    "collapsed": true
   },
   "outputs": [],
   "source": [
    "def func(x):\n",
    "    x0=x[0][0]\n",
    "    x1=x[1][0]\n",
    "    return x0*x0 + x1*x1 - 0.5*x0 - 1.6*x1 +2\n",
    "def grad(x):\n",
    "    x0=x[0][0]\n",
    "    x1=x[1][0]\n",
    "    #print(x.shape)\n",
    "    g=np.zeros((x.shape))\n",
    "    g[0][0]=2*x0-0.5\n",
    "    g[1][0]=2*x1-1.6\n",
    "    return g\n",
    "def hess(x):\n",
    "    x0=x[0][0]\n",
    "    x1=x[1][0]\n",
    "    #print(x.shape) \n",
    "    i=x.shape[0]\n",
    "    #print(i)\n",
    "    h=np.zeros((i,i))\n",
    "    h[0][0]=2\n",
    "    h[1][1]=2\n",
    "    return h"
   ]
  },
  {
   "cell_type": "markdown",
   "metadata": {},
   "source": [
    "Затем составлены формулы для поточечного вычисления градиента и гессиана (с использованием конечных разностей)"
   ]
  },
  {
   "cell_type": "code",
   "execution_count": 4,
   "metadata": {
    "collapsed": true
   },
   "outputs": [],
   "source": [
    "def deltai(x,d,i):\n",
    "    delta=np.zeros((x.shape))\n",
    "    delta[i][0]=d\n",
    "    return delta\n",
    "\n",
    "def firstx1(x,d,f,i):\n",
    "    delta=deltai(x,d,i)\n",
    "    return(f(x+delta)-f(x))/delta[i][0]\n",
    "\n",
    "\n",
    "def pointgrad(x,d,f):\n",
    "    g=np.zeros((x.shape))\n",
    "    for i in range(x.shape[0]):\n",
    "        g[i][0]=firstx1(x,d,f,i)\n",
    "    return g\n",
    "\n",
    "\n",
    "def pointhess(x,d,f):\n",
    "    i=x.shape[0]\n",
    "    h=np.zeros((i,i))\n",
    "    for j in range(i):\n",
    "        for k in range(i):\n",
    "            h[j][k]=(firstx1(x+deltai(x,d,k),d,f,j)-firstx1(x,d,f,j))/d\n",
    "    return h\n"
   ]
  },
  {
   "cell_type": "markdown",
   "metadata": {},
   "source": [
    "Значения, полученные двумя способами, оказались близки друг к другу"
   ]
  },
  {
   "cell_type": "code",
   "execution_count": 5,
   "metadata": {},
   "outputs": [
    {
     "name": "stdout",
     "output_type": "stream",
     "text": [
      "Значение функции в точке:\n",
      "5.1\n",
      "Градиент и гессиан (аналитические):\n",
      "[[ 1.5]\n",
      " [-3.6]]\n",
      "[[ 2.  0.]\n",
      " [ 0.  2.]]\n",
      "Градиент и гессиан (поточечные):\n",
      "[[ 1.505]\n",
      " [-3.595]]\n",
      "[[ 2.  0.]\n",
      " [ 0.  2.]]\n"
     ]
    }
   ],
   "source": [
    "start=np.zeros((2,1))\n",
    "start[0]=1\n",
    "start[1]=-1\n",
    "a=func(start)\n",
    "b=grad(start)\n",
    "c=hess(start)\n",
    "print(\"Значение функции в точке:\")\n",
    "print(a)\n",
    "print(\"Градиент и гессиан (аналитические):\")\n",
    "print(b)\n",
    "print(c)\n",
    "eps=0.005\n",
    "b1=pointgrad(start,eps,func)\n",
    "c1=pointhess(start,eps,func)\n",
    "print(\"Градиент и гессиан (поточечные):\")\n",
    "print(b1)\n",
    "print(c1)"
   ]
  },
  {
   "cell_type": "markdown",
   "metadata": {},
   "source": [
    "Само решение выглядит следующим образом:"
   ]
  },
  {
   "cell_type": "code",
   "execution_count": 7,
   "metadata": {},
   "outputs": [
    {
     "name": "stdout",
     "output_type": "stream",
     "text": [
      "Шаг: \n",
      "[[-0.75]\n",
      " [ 1.8 ]]\n",
      "Минимум: \n",
      "[[ 0.25]\n",
      " [ 0.8 ]]\n",
      "Значение функции в точке: \n",
      "1.2975\n"
     ]
    },
    {
     "data": {
      "image/png": "[encoded data removed]",
      "text/plain": [
       "<matplotlib.figure.Figure at 0x539f790>"
      ]
     },
     "metadata": {},
     "output_type": "display_data"
    }
   ],
   "source": [
    "x_curr = np.zeros((2,1))\n",
    "x_curr = np.linalg.solve(c,-b)\n",
    "print(\"Шаг: \")\n",
    "print(x_curr)\n",
    "print(\"Минимум: \")\n",
    "print(start+x_curr)\n",
    "print(\"Значение функции в точке: \")\n",
    "r=func(start+x_curr)\n",
    "print(r)\n",
    "\n",
    "def grap():\n",
    "    X=np.arange(-1.5,2.5,0.05)\n",
    "    Y=np.arange(-1.5,2.5,0.05)\n",
    "    xgrid,ygrid=np.meshgrid(X,Y)\n",
    "    zgrid=(xgrid*xgrid + ygrid*ygrid - 0.5*xgrid - 1.6*ygrid +2)\n",
    "    return xgrid,ygrid,zgrid\n",
    "\n",
    "\n",
    "def drawArrow (axes):\n",
    "\n",
    "     arrow_x0 = start[0][0]\n",
    "     arrow_y0 = start[1][0]\n",
    "     arrow_dx = x_curr[0][0]\n",
    "     arrow_dy = x_curr[1][0]\n",
    "     arrow = plt.Arrow (arrow_x0,arrow_y0,arrow_dx,arrow_dy,width=0.09,color=\"r\")\n",
    "     axes.add_patch (arrow)\n",
    "\n",
    "axes = plt.gca()\n",
    "X,Y,Z = grap()\n",
    "plt.contour(X,Y,Z)\n",
    "\n",
    "plt.grid()\n",
    "drawArrow (axes)\n",
    "\n",
    "plt.show()"
   ]
  },
  {
   "cell_type": "markdown",
   "metadata": {},
   "source": [
    "Линии уровня представляют собой эллипсы, вектор-шаг из стартовой точки (1,-1) приводит в минимум (0.25,0.8)"
   ]
  },
  {
   "cell_type": "markdown",
   "metadata": {},
   "source": [
    "Аналитически и поточечно вычисленные градиент и гессиан привели к близким результатам:"
   ]
  },
  {
   "cell_type": "code",
   "execution_count": 8,
   "metadata": {},
   "outputs": [
    {
     "name": "stdout",
     "output_type": "stream",
     "text": [
      "[[ 0.25]\n",
      " [ 0.8 ]]\n",
      "[[ 0.2475]\n",
      " [ 0.7975]]\n"
     ]
    }
   ],
   "source": [
    "def countMin(x_start):\n",
    "    i=x_start.shape\n",
    "    x_curr = np.zeros(i)\n",
    "    x_curr = np.linalg.solve(hess(x_start),-grad(x_start))\n",
    "    return x_curr+x_start\n",
    "def pointCountMin(x_start,d,f):\n",
    "    i=x_start.shape\n",
    "    x_curr = np.zeros(i)\n",
    "    x_curr = np.linalg.solve(pointhess(x_start,d,f),-pointgrad(x_start,d,f))\n",
    "    return x_curr+x_start\n",
    "x_1 = countMin(start)\n",
    "print(x_1)\n",
    "x_2=pointCountMin(start,eps,func)\n",
    "print(x_2)\n"
   ]
  },
  {
   "cell_type": "markdown",
   "metadata": {},
   "source": [
    "Для оценки зависимости погрешности поточечного метода от приращения по координатам введём функцию квадрат нормы и построим график зависимости нормы погрешности от приращения координат, используемого при составлении конечных разностей:"
   ]
  },
  {
   "cell_type": "code",
   "execution_count": 9,
   "metadata": {
    "collapsed": true
   },
   "outputs": [],
   "source": [
    "def norma_square(x):\n",
    "    n=0\n",
    "    for i in range(x.shape[0]):\n",
    "        n += (x[i][0])**2\n",
    "    return n"
   ]
  },
  {
   "cell_type": "code",
   "execution_count": 10,
   "metadata": {},
   "outputs": [
    {
     "name": "stderr",
     "output_type": "stream",
     "text": [
      "C:\\ProgramData\\Anaconda3\\lib\\site-packages\\ipykernel\\__main__.py:8: RuntimeWarning: invalid value encountered in double_scalars\n"
     ]
    },
    {
     "data": {
      "image/png": "[encoded data removed]",
      "text/plain": [
       "<matplotlib.figure.Figure at 0x539f930>"
      ]
     },
     "metadata": {},
     "output_type": "display_data"
    }
   ],
   "source": [
    "dp=np.zeros((10))\n",
    "for i in range(dp.shape[0]):\n",
    "    v=countMin(start)-pointCountMin(start,0.005*i,func)\n",
    "    dp[i]=(norma_square(v))**0.5\n",
    "plt.plot(dp)\n",
    "plt.grid()\n",
    "plt.show()"
   ]
  },
  {
   "cell_type": "markdown",
   "metadata": {},
   "source": [
    "Погрешность линейно возрастает с ростом интервала между точками, по которым вычисляются конечные разности."
   ]
  },
  {
   "cell_type": "markdown",
   "metadata": {},
   "source": [
    "Чтобы проверить работу метода для функции многих (необязательно двух) переменных, рассмотрим градиент и гессиан квадрата нормы. Минимум этой функции легко находится даже без выкладок на бумаге. Составив аналитические формулы и применив поточечные, опять получаем близкие результаты и можем оценить норму погрешности:"
   ]
  },
  {
   "cell_type": "code",
   "execution_count": 13,
   "metadata": {},
   "outputs": [],
   "source": [
    "\n",
    "\n",
    "def grad1(x):\n",
    "    g=np.zeros((x.shape))\n",
    "    for i in range(x.shape[0]):\n",
    "        g[i][0]=2*x[i][0]-2*0\n",
    "    return g\n",
    "def hess1(x):\n",
    "    i=x.shape[0]\n",
    "    h=np.zeros((i,i))\n",
    "    for j in range(i):\n",
    "        h[j][j]=2\n",
    "    return h\n"
   ]
  },
  {
   "cell_type": "code",
   "execution_count": 15,
   "metadata": {},
   "outputs": [
    {
     "name": "stdout",
     "output_type": "stream",
     "text": [
      "Стартовая точка\n",
      "[[ 10.]\n",
      " [  9.]\n",
      " [  8.]\n",
      " [  7.]\n",
      " [  6.]\n",
      " [  5.]\n",
      " [  4.]\n",
      " [  3.]\n",
      " [  2.]\n",
      " [  1.]]\n",
      "Шаг:\n",
      "[[-10.]\n",
      " [ -9.]\n",
      " [ -8.]\n",
      " [ -7.]\n",
      " [ -6.]\n",
      " [ -5.]\n",
      " [ -4.]\n",
      " [ -3.]\n",
      " [ -2.]\n",
      " [ -1.]]\n",
      "Минимум:\n",
      "[[ 0.]\n",
      " [ 0.]\n",
      " [ 0.]\n",
      " [ 0.]\n",
      " [ 0.]\n",
      " [ 0.]\n",
      " [ 0.]\n",
      " [ 0.]\n",
      " [ 0.]\n",
      " [ 0.]]\n"
     ]
    },
    {
     "data": {
      "image/png": "[encoded data removed]",
      "text/plain": [
       "<matplotlib.figure.Figure at 0x5cf7b50>"
      ]
     },
     "metadata": {},
     "output_type": "display_data"
    }
   ],
   "source": [
    "start1 = np.zeros((10,1))\n",
    "for i in range(start1.shape[0]):\n",
    "    start1[i][0]=10-i\n",
    "print(\"Стартовая точка\")\n",
    "print(start1)\n",
    "\n",
    "b=grad1(start1)\n",
    "c=hess1(start1)\n",
    "\n",
    "x_curr = np.zeros((start1.shape))\n",
    "x_curr = np.linalg.solve(c,-b)\n",
    "print(\"Шаг:\")\n",
    "print(x_curr)\n",
    "x_curr += start1\n",
    "print(\"Минимум:\")\n",
    "print(x_curr)\n",
    "dp1=np.zeros(10)\n",
    "for i in range(dp1.shape[0]):\n",
    "    eps = 0.001*(i+1)\n",
    "    b1=pointgrad(start1,eps,norma_square)\n",
    "    c1=pointhess(start1,eps,norma_square)\n",
    "    x_curr_point=np.linalg.solve(c1,-b1)\n",
    "    x_curr_point += start1\n",
    "    dp1[i]=((norma_square(x_curr_point-x_curr))**0.5)\n",
    "\n",
    "plt.plot(dp1)\n",
    "plt.grid()\n",
    "plt.show()"
   ]
  },
  {
   "cell_type": "markdown",
   "metadata": {
    "collapsed": true
   },
   "source": [
    "Погрешность снова растёт линейно с ростом интервала между точками, по которым вычислялись конечные разности для поточечных формул"
   ]
  },
  {
   "cell_type": "code",
   "execution_count": null,
   "metadata": {
    "collapsed": true
   },
   "outputs": [],
   "source": []
  },
  {
   "cell_type": "code",
   "execution_count": 4,
   "metadata": {
    "collapsed": true
   },
   "outputs": [],
   "source": [
    "def firstx(x,d):\n",
    "    delta=np.zeros((x.shape))\n",
    "    delta[0][0]=d\n",
    "    return(func(x+delta)-func(x))/delta[0][0]\n",
    "def firsty(x,d):\n",
    "    delta=np.zeros((x.shape))\n",
    "    delta[1][0]=d\n",
    "    return(func(x+delta)-func(x))/delta[1][0]\n",
    "\n",
    "def pointgrad(x,d):\n",
    "    g=np.zeros((x.shape))\n",
    "    g[0][0]=firstx(x,d)\n",
    "    g[1][0]=firsty(x,d)\n",
    "    return g\n",
    "\n",
    "def pointhess(x,d):\n",
    "    i=x.shape[0]\n",
    "    h=np.zeros((i,i))\n",
    "    deltax=np.zeros((x.shape))\n",
    "    deltay=np.zeros((x.shape))\n",
    "    deltax[0][0]=d\n",
    "    deltay[1][0]=d\n",
    "    h[0][0]=(firstx(x+deltax,d)-firstx(x,d))/deltax[0][0]\n",
    "    h[0][1]=(firstx(x+deltay,d)-firstx(x,d))/deltay[1][0]\n",
    "    h[1][0]=(firsty(x+deltax,d)-firsty(x,d))/deltax[0][0]\n",
    "    h[1][1]=(firsty(x+deltay,d)-firsty(x,d))/deltay[1][0]\n",
    "    return h"
   ]
  }
 ],
 "metadata": {
  "kernelspec": {
   "display_name": "Python 3",
   "language": "python",
   "name": "python3"
  },
  "language_info": {
   "codemirror_mode": {
    "name": "ipython",
    "version": 3
   },
   "file_extension": ".py",
   "mimetype": "text/x-python",
   "name": "python",
   "nbconvert_exporter": "python",
   "pygments_lexer": "ipython3",
   "version": "3.7.3"
  }
 },
 "nbformat": 4,
 "nbformat_minor": 2
}
